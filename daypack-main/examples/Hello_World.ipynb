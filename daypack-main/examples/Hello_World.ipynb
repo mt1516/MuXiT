{
 "cells": [
  {
   "cell_type": "markdown",
   "id": "9f30e7fe-2c77-4b63-870f-bb194a36bfa9",
   "metadata": {},
   "source": [
    "# DayPack\n",
    "\n",
    "Welcome to DayPack.  DayPack is a library and scaffolding that allows for Gradio to be used with iOS and Android\n",
    "devices directly from Python, either programmatically or through Jupyter Notebook. \n",
    "\n",
    "The following has to be installed for this to work:\n",
    "* Android Studio or XCode (just to get the SDK)\n",
    "* An Android Device set to Developer Mode or a Provisioned iOS device\n",
    "* Gradio 5\n",
    "* An internet connection (for Hello World)\n",
    "\n",
    "Below, we setup the basic hello world example from Gradio:"
   ]
  },
  {
   "cell_type": "code",
   "execution_count": 19,
   "id": "232edd8f-251d-4692-89cd-5f13b64a655f",
   "metadata": {},
   "outputs": [],
   "source": [
    "import gradio as gr\n",
    "\n",
    "# Create a basic Gradio App\n",
    "def greet(name, intensity):\n",
    "    return \"Hello, \" + name + \"!\" * int(intensity)\n",
    "\n",
    "demo = gr.Interface(\n",
    "    fn=greet,\n",
    "    inputs=[\"text\", \"slider\"],\n",
    "    outputs=[\"text\"],\n",
    ")\n"
   ]
  },
  {
   "cell_type": "markdown",
   "id": "1c171eac-1fe0-4174-b267-cdb0181c7c02",
   "metadata": {},
   "source": [
    "## Using DayPack\n",
    "\n",
    "DayPack is a package that contains sketelon projects and Python code that can manipualte the Android and iOS skeleton projects.  A DayPack takes in a Gradio interface."
   ]
  },
  {
   "cell_type": "code",
   "execution_count": 23,
   "id": "4827b757-28bd-4aae-912c-743ebe74f6df",
   "metadata": {},
   "outputs": [],
   "source": [
    "from daypack import DayPack\n",
    "\n",
    "pack = DayPack(demo)\n"
   ]
  },
  {
   "cell_type": "markdown",
   "id": "e1e1220f-1c32-4c46-9a80-4e15234e8af5",
   "metadata": {},
   "source": [
    "At this point, DayPack can be used to start the application by calling launch.  By default, launch will start the demo with share=True, and will then copy the Gradio URI to the application.  It will then launch the application on the Android or iOS device attached."
   ]
  },
  {
   "cell_type": "code",
   "execution_count": 24,
   "id": "1e0d65f8-740f-4a32-b3e4-9044d96a4ce6",
   "metadata": {},
   "outputs": [
    {
     "ename": "AttributeError",
     "evalue": "'DayPack' object has no attribute 'launch'",
     "output_type": "error",
     "traceback": [
      "\u001b[0;31m---------------------------------------------------------------------------\u001b[0m",
      "\u001b[0;31mAttributeError\u001b[0m                            Traceback (most recent call last)",
      "Cell \u001b[0;32mIn[24], line 1\u001b[0m\n\u001b[0;32m----> 1\u001b[0m pack\u001b[38;5;241m.\u001b[39mlaunch()\n",
      "\u001b[0;31mAttributeError\u001b[0m: 'DayPack' object has no attribute 'launch'"
     ]
    }
   ],
   "source": [
    "pack.launch()"
   ]
  },
  {
   "cell_type": "markdown",
   "id": "68e733bf-a45a-4f50-a190-76e040fe5dce",
   "metadata": {},
   "source": [
    "This is the basics on how to use DayPack, to find out more on how to use DayPack, please read the following tutorials that go through the basic features of DayPack which include the following:\n",
    "\n",
    "* How to specify which device to install a DayPack\n",
    "* Loading CoreML and LiteRT models into a DayPack for evaluation\n",
    "* Using custom components to "
   ]
  },
  {
   "cell_type": "code",
   "execution_count": null,
   "id": "b115d48a-d4bf-44fe-bda9-241de37b6a42",
   "metadata": {},
   "outputs": [],
   "source": []
  },
  {
   "cell_type": "code",
   "execution_count": null,
   "id": "4e28b8ea-1bff-4cbf-9f3e-0cf3caab17ab",
   "metadata": {},
   "outputs": [],
   "source": []
  }
 ],
 "metadata": {
  "kernelspec": {
   "display_name": "Python 3 (ipykernel)",
   "language": "python",
   "name": "python3"
  },
  "language_info": {
   "codemirror_mode": {
    "name": "ipython",
    "version": 3
   },
   "file_extension": ".py",
   "mimetype": "text/x-python",
   "name": "python",
   "nbconvert_exporter": "python",
   "pygments_lexer": "ipython3",
   "version": "3.12.7"
  }
 },
 "nbformat": 4,
 "nbformat_minor": 5
}
